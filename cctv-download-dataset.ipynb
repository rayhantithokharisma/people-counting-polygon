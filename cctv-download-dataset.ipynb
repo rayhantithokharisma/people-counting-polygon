{
 "cells": [
  {
   "cell_type": "code",
   "execution_count": 5,
   "id": "674d94af-e2b5-49a0-9898-6f9da89b5e21",
   "metadata": {},
   "outputs": [],
   "source": [
    "import requests\n",
    "import m3u8\n",
    "import subprocess\n",
    "import os\n",
    "import sys\n",
    "import numpy as np\n",
    "import pandas as pd\n",
    "from datetime import datetime\n",
    "import warnings\n",
    "warnings.filterwarnings('ignore')\n",
    "import time\n",
    "from tqdm import tqdm\n",
    "from ulid import ULID\n",
    "\n",
    "from moviepy.editor import VideoFileClip, concatenate_videoclips\n",
    "import argparse\n",
    "\n",
    "import ast\n",
    "import uuid\n"
   ]
  },
  {
   "cell_type": "markdown",
   "id": "929ea91c-8627-4b5b-a7bc-989b74c54c46",
   "metadata": {},
   "source": [
    "# Get Longer Dataset"
   ]
  },
  {
   "cell_type": "markdown",
   "id": "ce08c7c3-a9c5-46f8-b64f-4215340a4bb3",
   "metadata": {},
   "source": [
    "## WARNING: FILE WOULD BE EXTRA LARGE"
   ]
  },
  {
   "cell_type": "code",
   "execution_count": 8,
   "id": "f37ae57d-ffbe-4acc-9407-92cf4a9b06b0",
   "metadata": {},
   "outputs": [
    {
     "name": "stderr",
     "output_type": "stream",
     "text": [
      "100%|██████████████████████████████████████████████████████████████████████████████████████████████████████████████████████████████████████████████████| 45/45 [00:48<00:00,  1.09s/it]\n",
      "135it [01:35,  1.41it/s]\n",
      "100%|████████████████████████████████████████████████████████████████████████████████████████████████████████████████████████████████████████████████████| 8/8 [00:00<00:00, 18.20it/s]\n"
     ]
    },
    {
     "name": "stdout",
     "output_type": "stream",
     "text": [
      "Moviepy - Building video cctv-malioboro-download-v5-merged/media_w1882981590_308_media_w1882981590_308.mp4.\n",
      "Moviepy - Writing video cctv-malioboro-download-v5-merged/media_w1882981590_308_media_w1882981590_308.mp4\n",
      "\n"
     ]
    },
    {
     "name": "stderr",
     "output_type": "stream",
     "text": [
      "                                                                                                                                                                                       \r"
     ]
    },
    {
     "name": "stdout",
     "output_type": "stream",
     "text": [
      "Moviepy - Done !\n",
      "Moviepy - video ready cctv-malioboro-download-v5-merged/media_w1882981590_308_media_w1882981590_308.mp4\n"
     ]
    }
   ],
   "source": [
    "m3u8_url = \"https://cctvjss.jogjakota.go.id/malioboro/Malioboro_25_Utara_Mall.stream/chunklist_w1882981590.m3u8\"\n",
    "stream_url = 'https://cctvjss.jogjakota.go.id/malioboro/Malioboro_25_Utara_Mall.stream/'\n",
    "save_directory = 'cctv-malioboro-download-v5'\n",
    "os.makedirs(save_directory, exist_ok=True)\n",
    "merge_directory = save_directory + '-merged'\n",
    "os.makedirs(merge_directory , exist_ok=True)\n",
    "\n",
    "ts_url_names = []\n",
    "ts_urls = []\n",
    "\n",
    "for _ in tqdm(range(300)):\n",
    "    response = requests.get(m3u8_url, verify = False)\n",
    "    time.sleep(2.5)\n",
    "    m3u8_content = response.text\n",
    "    m3u8_obj = m3u8.loads(m3u8_content)\n",
    "    ts_url_name = [segment.uri for segment in m3u8_obj.segments]\n",
    "    ts_url = [stream_url + x for x in ts_url_name]\n",
    "    ts_url_names.extend(ts_url_name)\n",
    "    ts_urls.extend(ts_url)\n",
    "\n",
    "\n",
    "for i, (ts_url, ts_name) in tqdm(enumerate(zip(ts_urls, ts_url_names))):\n",
    "    ts_response = requests.get(ts_url, verify = False)\n",
    "    ts_filename = os.path.join(save_directory, f'{ts_name}')\n",
    "    with open(ts_filename, 'wb') as ts_file:\n",
    "        ts_file.write(ts_response.content)\n",
    "\n",
    "ts_files = sorted([os.path.join(save_directory, f) for f in os.listdir(save_directory) if f.endswith('.ts')])\n",
    "\n",
    "for ts_file in tqdm(ts_files, total = len(ts_files)):\n",
    "    mp4_file = ts_file.replace('.ts', '.mp4')\n",
    "    \n",
    "    subprocess.run([\n",
    "        'ffmpeg', '-i', ts_file, '-c', 'copy', mp4_file\n",
    "    ], stdout=subprocess.DEVNULL, stderr=subprocess.DEVNULL)\n",
    "\n",
    "    os.remove(ts_file)\n",
    "\n",
    "mp4_files = sorted([os.path.join(save_directory, f) for f in os.listdir(save_directory) if f.endswith('.mp4')])\n",
    "first_fl = mp4_files[0].split('/')[-1].replace('.mp4', '')\n",
    "last_fl = mp4_files[-1].split('/')[-1].replace('.mp4', '')\n",
    "\n",
    "output_video = f\"{first_fl}_{last_fl}.mp4\"\n",
    "\n",
    "clips = [VideoFileClip(file) for file in mp4_files]\n",
    "\n",
    "final_clip = concatenate_videoclips(clips, method='compose')\n",
    "for mpf in mp4_files:\n",
    "    os.remove(mpf)\n",
    "final_clip.write_videofile(os.path.join(merge_directory, output_video))\n",
    "\n"
   ]
  }
 ],
 "metadata": {
  "kernelspec": {
   "display_name": "vtenv-2",
   "language": "python",
   "name": "vtenv-2"
  },
  "language_info": {
   "codemirror_mode": {
    "name": "ipython",
    "version": 3
   },
   "file_extension": ".py",
   "mimetype": "text/x-python",
   "name": "python",
   "nbconvert_exporter": "python",
   "pygments_lexer": "ipython3",
   "version": "3.10.0"
  }
 },
 "nbformat": 4,
 "nbformat_minor": 5
}
