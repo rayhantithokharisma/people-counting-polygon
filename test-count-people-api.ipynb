{
 "cells": [
  {
   "cell_type": "code",
   "execution_count": 82,
   "id": "be99a009-15c5-4bc1-9743-f82e30059b01",
   "metadata": {},
   "outputs": [],
   "source": [
    "import requests\n",
    "import time\n",
    "import pandas as pd"
   ]
  },
  {
   "cell_type": "markdown",
   "id": "eca46414-6130-470b-a9ac-4a7c950cf7ea",
   "metadata": {},
   "source": [
    "## Client-Side Example: initiate detection"
   ]
  },
  {
   "cell_type": "code",
   "execution_count": 83,
   "id": "62a5ebc9-2dd8-4a60-b223-4563ba95522a",
   "metadata": {},
   "outputs": [],
   "source": [
    "n_sample = 1 # number of video to acquire, set this to 1 for testing purposes"
   ]
  },
  {
   "cell_type": "code",
   "execution_count": 85,
   "id": "24a93829-e2e9-4f11-bc7e-2b755ee42e36",
   "metadata": {},
   "outputs": [
    {
     "name": "stdout",
     "output_type": "stream",
     "text": [
      "Response: {'message': 'Task started in the background', 'task_id': '3172aa47-c98e-4d88-a7b0-8fb612d8c7d8'}\n",
      "Task status: {'task_id': '3172aa47-c98e-4d88-a7b0-8fb612d8c7d8', 'status': 'downloading video, part: get ts URL'}\n",
      "Task status: {'task_id': '3172aa47-c98e-4d88-a7b0-8fb612d8c7d8', 'status': 'downloading video, part: get ts URL'}\n",
      "Task status: {'task_id': '3172aa47-c98e-4d88-a7b0-8fb612d8c7d8', 'status': 'downloading video, part: get ts URL'}\n",
      "Task status: {'task_id': '3172aa47-c98e-4d88-a7b0-8fb612d8c7d8', 'status': 'downloading video, part: get ts URL'}\n",
      "Task status: {'task_id': '3172aa47-c98e-4d88-a7b0-8fb612d8c7d8', 'status': 'downloading video, part: get ts URL'}\n",
      "Task status: {'task_id': '3172aa47-c98e-4d88-a7b0-8fb612d8c7d8', 'status': 'downloading video, part: get ts URL'}\n",
      "Task status: {'task_id': '3172aa47-c98e-4d88-a7b0-8fb612d8c7d8', 'status': 'downloading video, part: get ts URL'}\n",
      "Task status: {'task_id': '3172aa47-c98e-4d88-a7b0-8fb612d8c7d8', 'status': 'downloading video, part: get ts URL'}\n",
      "Task status: {'task_id': '3172aa47-c98e-4d88-a7b0-8fb612d8c7d8', 'status': 'downloading video, part: get ts URL'}\n",
      "Task status: {'task_id': '3172aa47-c98e-4d88-a7b0-8fb612d8c7d8', 'status': 'downloading video, part: get ts URL'}\n",
      "Task status: {'task_id': '3172aa47-c98e-4d88-a7b0-8fb612d8c7d8', 'status': 'downloading video, part: get ts URL'}\n",
      "Task status: {'task_id': '3172aa47-c98e-4d88-a7b0-8fb612d8c7d8', 'status': 'downloading video, part: get ts URL'}\n",
      "Task status: {'task_id': '3172aa47-c98e-4d88-a7b0-8fb612d8c7d8', 'status': 'downloading video, part: get ts URL'}\n",
      "Task status: {'task_id': '3172aa47-c98e-4d88-a7b0-8fb612d8c7d8', 'status': 'downloading video, part: get ts URL'}\n",
      "Task status: {'task_id': '3172aa47-c98e-4d88-a7b0-8fb612d8c7d8', 'status': 'downloading video, part: get ts URL'}\n",
      "Task status: {'task_id': '3172aa47-c98e-4d88-a7b0-8fb612d8c7d8', 'status': 'downloading video, part: get ts URL'}\n",
      "Task status: {'task_id': '3172aa47-c98e-4d88-a7b0-8fb612d8c7d8', 'status': 'downloading video, part: get ts URL'}\n",
      "Task status: {'task_id': '3172aa47-c98e-4d88-a7b0-8fb612d8c7d8', 'status': 'downloading video, part: get ts URL'}\n",
      "Task status: {'task_id': '3172aa47-c98e-4d88-a7b0-8fb612d8c7d8', 'status': 'downloading video, part: get ts URL'}\n",
      "Task status: {'task_id': '3172aa47-c98e-4d88-a7b0-8fb612d8c7d8', 'status': 'downloading video, part: get ts URL'}\n",
      "Task status: {'task_id': '3172aa47-c98e-4d88-a7b0-8fb612d8c7d8', 'status': 'downloading video, part: get ts URL'}\n",
      "Task status: {'task_id': '3172aa47-c98e-4d88-a7b0-8fb612d8c7d8', 'status': 'downloading video, part: writing ts file'}\n",
      "Task status: {'task_id': '3172aa47-c98e-4d88-a7b0-8fb612d8c7d8', 'status': 'downloading video, part: writing ts file'}\n",
      "Task status: {'task_id': '3172aa47-c98e-4d88-a7b0-8fb612d8c7d8', 'status': 'downloading video, part: writing ts file'}\n",
      "Task status: {'task_id': '3172aa47-c98e-4d88-a7b0-8fb612d8c7d8', 'status': 'downloading video, part: writing ts file'}\n",
      "Task status: {'task_id': '3172aa47-c98e-4d88-a7b0-8fb612d8c7d8', 'status': 'downloading video, part: writing ts file'}\n",
      "Task status: {'task_id': '3172aa47-c98e-4d88-a7b0-8fb612d8c7d8', 'status': 'downloading video, part: writing ts file'}\n",
      "Task status: {'task_id': '3172aa47-c98e-4d88-a7b0-8fb612d8c7d8', 'status': 'downloading video, part: writing ts file'}\n",
      "Task status: {'task_id': '3172aa47-c98e-4d88-a7b0-8fb612d8c7d8', 'status': 'downloading video, part: writing ts file'}\n",
      "Task status: {'task_id': '3172aa47-c98e-4d88-a7b0-8fb612d8c7d8', 'status': 'downloading video, part: writing ts file'}\n",
      "Task status: {'task_id': '3172aa47-c98e-4d88-a7b0-8fb612d8c7d8', 'status': 'downloading video, part: writing ts file'}\n",
      "Task status: {'task_id': '3172aa47-c98e-4d88-a7b0-8fb612d8c7d8', 'status': 'downloading video, part: writing ts file'}\n",
      "Task status: {'task_id': '3172aa47-c98e-4d88-a7b0-8fb612d8c7d8', 'status': 'downloading video, part: writing ts file'}\n",
      "Task status: {'task_id': '3172aa47-c98e-4d88-a7b0-8fb612d8c7d8', 'status': 'downloading video, part: writing ts file'}\n",
      "Task status: {'task_id': '3172aa47-c98e-4d88-a7b0-8fb612d8c7d8', 'status': 'downloading video, part: writing ts file'}\n",
      "Task status: {'task_id': '3172aa47-c98e-4d88-a7b0-8fb612d8c7d8', 'status': 'downloading video, part: writing ts file'}\n",
      "Task status: {'task_id': '3172aa47-c98e-4d88-a7b0-8fb612d8c7d8', 'status': 'downloading video, part: convert ts to mp4'}\n",
      "Task status: {'task_id': '3172aa47-c98e-4d88-a7b0-8fb612d8c7d8', 'status': 'calculate people with yolo'}\n",
      "Task status: {'task_id': '3172aa47-c98e-4d88-a7b0-8fb612d8c7d8', 'status': 'calculate people with yolo'}\n",
      "Task status: {'task_id': '3172aa47-c98e-4d88-a7b0-8fb612d8c7d8', 'status': 'calculate people with yolo'}\n",
      "Task status: {'task_id': '3172aa47-c98e-4d88-a7b0-8fb612d8c7d8', 'status': 'calculate people with yolo'}\n",
      "Task status: {'task_id': '3172aa47-c98e-4d88-a7b0-8fb612d8c7d8', 'status': 'calculate people with yolo : done'}\n",
      "Result: {'task_id': '3172aa47-c98e-4d88-a7b0-8fb612d8c7d8', 'video_date_start': '2025-02-22 12:08:16.109342', 'video_date_end': '2025-02-22 12:08:26.109342', 'video_duration': '10.0', 'people_passed': '2', 'total_people_in_video': '109'}\n"
     ]
    }
   ],
   "source": [
    "for _ in range(n_sample):\n",
    "\n",
    "    data = {\n",
    "        \"url_param\": \"chunklist_w812441232.m3u8\",\n",
    "        \"estimated_duration\": 50,\n",
    "        \"polygon_points\": [[589, 431], [713, 429], [732, 478], [603, 482]] # please do not change\n",
    "    }\n",
    "    \n",
    "    response = requests.post(\"http://localhost:8000/start-task\", json=data)\n",
    "    print(\"Response:\", response.json())\n",
    "    \n",
    "    \n",
    "    task_id = response.json()['task_id']\n",
    "\n",
    "    time.sleep(3)\n",
    "    \n",
    "    status_text = ''\n",
    "    while status_text != 'calculate people with yolo : done':\n",
    "        \n",
    "        status_data = {\n",
    "            \"task_id\": task_id\n",
    "        }\n",
    "        \n",
    "        status_response = requests.post(\"http://localhost:8000/task-status\", json=status_data)\n",
    "        print(\"Task status:\", status_response.json())\n",
    "        status_text = status_response.json()['status']\n",
    "        time.sleep(6)\n",
    "    \n",
    "    \n",
    "    result_response = requests.post(\"http://localhost:8000/get-result\", json=status_data)\n",
    "    print(\"Result:\", result_response.json())"
   ]
  },
  {
   "cell_type": "markdown",
   "id": "4cbc4129-3bcf-46e0-837c-07925b8c8389",
   "metadata": {},
   "source": [
    "## Client-Side example: Get Statistics\n",
    "This will return: **last_10_mins_avg**, **current_date_total_detected_people**, **latest_video_datetime**, and **dashboard_url**\n",
    "\n",
    "You can open the dashboard url to see the dashboard snapshot"
   ]
  },
  {
   "cell_type": "code",
   "execution_count": 86,
   "id": "b76d220f-23f4-4140-ac72-c91b524f1965",
   "metadata": {},
   "outputs": [
    {
     "name": "stdout",
     "output_type": "stream",
     "text": [
      "{'last_10_mins_avg': '2.0', 'current_date_total_detected_people': '2', 'latest_video_datetime': '2025-02-22 12:08:16.109342', 'dashboard_url': 'http://localhost:8000/static/combined_plot.png'}\n"
     ]
    }
   ],
   "source": [
    "stats_response = requests.post(\"http://localhost:8000/get-stats\", json={})\n",
    "print(stats_response.json())"
   ]
  },
  {
   "cell_type": "code",
   "execution_count": null,
   "id": "9d4cb874-9ba4-473e-b272-84c64337a008",
   "metadata": {},
   "outputs": [],
   "source": []
  }
 ],
 "metadata": {
  "kernelspec": {
   "display_name": "vtenv-2",
   "language": "python",
   "name": "vtenv-2"
  },
  "language_info": {
   "codemirror_mode": {
    "name": "ipython",
    "version": 3
   },
   "file_extension": ".py",
   "mimetype": "text/x-python",
   "name": "python",
   "nbconvert_exporter": "python",
   "pygments_lexer": "ipython3",
   "version": "3.10.0"
  }
 },
 "nbformat": 4,
 "nbformat_minor": 5
}
